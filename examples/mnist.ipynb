{
 "cells": [
  {
   "cell_type": "code",
   "execution_count": 1,
   "metadata": {},
   "outputs": [
    {
     "name": "stdout",
     "output_type": "stream",
     "text": [
      "GPU: True\n",
      "epoch: 1\n",
      "train loss: 0.1917829109635204, accuracy: 0.9419166666666666\n",
      "test loss: 0.1047103403962683, accuracy: 0.9664\n",
      "epoch: 2\n",
      "train loss: 0.08020634535700083, accuracy: 0.9749166666666667\n",
      "test loss: 0.07306548073829618, accuracy: 0.9784\n",
      "epoch: 3\n",
      "train loss: 0.05478894843099018, accuracy: 0.9822833333333333\n",
      "test loss: 0.0754341715888586, accuracy: 0.9757\n",
      "epoch: 4\n",
      "train loss: 0.046337428902237056, accuracy: 0.9849666666666667\n",
      "test loss: 0.0667539263695653, accuracy: 0.9773\n",
      "epoch: 5\n",
      "train loss: 0.03971771081715512, accuracy: 0.9869666666666667\n",
      "test loss: 0.07553065540909301, accuracy: 0.9764\n"
     ]
    }
   ],
   "source": [
    "import sys, os\n",
    "sys.path.append(os.pardir)\n",
    "sys.path.append(os.curdir)\n",
    "import axon\n",
    "import axon.functions as F\n",
    "from axon import DataLoader\n",
    "from axon.models import MLP\n",
    "\n",
    "max_epoch = 5\n",
    "batch_size = 100\n",
    "hidden_size = 1000\n",
    "\n",
    "train_set = axon.datasets.MNIST(train=True)\n",
    "test_set = axon.datasets.MNIST(train=False)\n",
    "train_loader = DataLoader(train_set, batch_size)\n",
    "test_loader = DataLoader(test_set, batch_size, shuffle=False)\n",
    "\n",
    "model = MLP((hidden_size, hidden_size, 10), activation=F.relu)\n",
    "optimizer = axon.optimizers.Adam().setup(model)\n",
    "optimizer.add_hook(axon.optimizers.WeightDecay(1e-4))  # Weight decay\n",
    "\n",
    "print('GPU: {}'.format(axon.core.gpu_enable))\n",
    "\n",
    "for epoch in range(max_epoch):\n",
    "    sum_loss, sum_acc = 0, 0\n",
    "\n",
    "    # 训练\n",
    "    for x, t in train_loader:\n",
    "        y = model(x)\n",
    "        loss = F.softmax_cross_entropy(y, t) # 交叉熵误差\n",
    "        acc = F.accuracy(y, t) # 计算精度\n",
    "        model.cleargrads()\n",
    "        loss.backward() # 反向传播\n",
    "        optimizer.update() # 更新参数\n",
    "\n",
    "        sum_loss += float(loss.data) * len(t) # 累计损失\n",
    "        sum_acc += float(acc.data) * len(t) # 累计精度\n",
    "\n",
    "    print('epoch: {}'.format(epoch+1))\n",
    "    print('train loss: {}, accuracy: {}'.format(\n",
    "        sum_loss / len(train_set), sum_acc / len(train_set)))\n",
    "\n",
    "    # 测试\n",
    "    sum_loss, sum_acc = 0, 0\n",
    "    with axon.no_grad():\n",
    "        for x, t in test_loader:\n",
    "            y = model(x)\n",
    "            loss = F.softmax_cross_entropy(y, t)\n",
    "            acc = F.accuracy(y, t)\n",
    "            sum_loss += float(loss.data) * len(t)\n",
    "            sum_acc += float(acc.data) * len(t)\n",
    "\n",
    "    print('test loss: {}, accuracy: {}'.format(\n",
    "        sum_loss / len(test_set), sum_acc / len(test_set)))"
   ]
  }
 ],
 "metadata": {
  "kernelspec": {
   "display_name": "deeplearning",
   "language": "python",
   "name": "python3"
  },
  "language_info": {
   "codemirror_mode": {
    "name": "ipython",
    "version": 3
   },
   "file_extension": ".py",
   "mimetype": "text/x-python",
   "name": "python",
   "nbconvert_exporter": "python",
   "pygments_lexer": "ipython3",
   "version": "3.12.1"
  }
 },
 "nbformat": 4,
 "nbformat_minor": 2
}
